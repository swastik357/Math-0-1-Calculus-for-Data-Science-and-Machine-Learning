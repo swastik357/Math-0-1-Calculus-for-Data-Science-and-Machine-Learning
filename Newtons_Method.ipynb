{
  "nbformat": 4,
  "nbformat_minor": 0,
  "metadata": {
    "colab": {
      "provenance": []
    },
    "kernelspec": {
      "name": "python3",
      "display_name": "Python 3"
    },
    "language_info": {
      "name": "python"
    },
    "sc": "u00sXRNZFNmp4Ka08-CGPw"
  },
  "cells": [
    {
      "cell_type": "code",
      "execution_count": 24,
      "metadata": {
        "id": "BeFaeTUc35Z7"
      },
      "outputs": [],
      "source": [
        "# An important point to note in Newton's algorithm is that we only get the point where f'(x) = 0\n",
        "# Unlike Gradient Descent/Ascent,  we CAN'T CONTROL WHETHER we get a maxima or minima. In Gradient descent,\n",
        "# Gradient is direction of steepest ascent, so we can decide to go in that or diametrically opposite direction\n",
        "# Another point is that Newton method automatically adjusts \"learning rate\" based on double derivative\n",
        "# Furthermore, since Taylor expansion of second degree is EXACT FOR QUADRATIC OBJECTIVE, therefore,\n",
        "# Newton method WILL CONVERGE IN SINGLE STEP when applied on DERIVATIVE OF QUADRATIC OBJECTIVE\n",
        "\n",
        "# Newton's formula for finding point where f'(x) = 0: X(t+1) = X(t) - f'(X(t))/f''(X(t))\n",
        "# In above formula learning rate is automatically chosen to be 1/f''(X(t)\n",
        "# In multiple dimensions it 'd involve computation of HESSIAN MATRIX which is COMPUTATIONALLY INTENSIVE\n",
        "import numpy as np\n",
        "import matplotlib.pyplot as plt"
      ]
    },
    {
      "cell_type": "code",
      "source": [
        "x = np.linspace(-2, 2, 100)\n",
        "y = -0.5 * 9.8 * x ** 2 + 2 * x + 1"
      ],
      "metadata": {
        "id": "fZ6DVey13823"
      },
      "execution_count": 25,
      "outputs": []
    },
    {
      "cell_type": "code",
      "source": [
        "plt.axhline(y=0, color='k')\n",
        "plt.axvline(x=0, color='k')\n",
        "plt.grid()\n",
        "plt.plot(x, y);"
      ],
      "metadata": {
        "colab": {
          "base_uri": "https://localhost:8080/",
          "height": 430
        },
        "id": "NZX3xaDr4B70",
        "outputId": "7b8a9243-b4c4-42c1-e291-99ea5a69f95a"
      },
      "execution_count": 26,
      "outputs": [
        {
          "output_type": "display_data",
          "data": {
            "text/plain": [
              "<Figure size 640x480 with 1 Axes>"
            ],
            "image/png": "[encoded data removed]"
          },
          "metadata": {}
        }
      ]
    },
    {
      "cell_type": "code",
      "source": [
        "# initial guess\n",
        "x_old = -1\n",
        "\n",
        "# the function\n",
        "def func(x):\n",
        "  return -0.5 * 9.8 * x ** 2 + 2 * x + 1\n",
        "\n",
        "# the derivative\n",
        "def derivative(x):\n",
        "  return -0.5 * 9.8 * 2 * x + 2\n",
        "\n",
        "# the algorithm\n",
        "while True:\n",
        "  x_new = x_old - func(x_old) / derivative(x_old)\n",
        "\n",
        "  # stop when the value of x hasn't changed too much\n",
        "  if np.abs(x_new - x_old) < 1e-10:\n",
        "    break\n",
        "  print(x_new)\n",
        "\n",
        "  # don't forget to reassign x_old for the next step!\n",
        "  x_old = x_new\n",
        "\n",
        "# print the final answer\n",
        "print(\"answer:\", x_new)\n",
        "\n",
        "# save for later\n",
        "answer1 = x_new"
      ],
      "metadata": {
        "colab": {
          "base_uri": "https://localhost:8080/"
        },
        "id": "PNBWscZA4DJS",
        "outputId": "1e12625d-445c-4a1c-d376-f2cc0e1926ca"
      },
      "execution_count": 28,
      "outputs": [
        {
          "output_type": "stream",
          "name": "stdout",
          "text": [
            "-0.5\n",
            "-0.322463768115942\n",
            "-0.2925336675153506\n",
            "-0.29163175116112455\n",
            "-0.2916309306737859\n",
            "answer: -0.2916309306731069\n"
          ]
        }
      ]
    },
    {
      "cell_type": "code",
      "source": [
        "# initial guess\n",
        "x_old = 1\n",
        "\n",
        "# don't need to define the function / its derivative again\n",
        "\n",
        "# the algorithm\n",
        "while True:\n",
        "  x_new = x_old - func(x_old) / derivative(x_old)\n",
        "\n",
        "  # stop when the value of x hasn't changed too much\n",
        "  if np.abs(x_new - x_old) < 1e-10:\n",
        "    break\n",
        "\n",
        "  print(x_new)\n",
        "  # don't forget to reassign x_old for the next step!\n",
        "  x_old = x_new\n",
        "\n",
        "# print the final answer\n",
        "print(\"answer:\", x_new)\n",
        "\n",
        "# save for later\n",
        "answer2 = x_new"
      ],
      "metadata": {
        "colab": {
          "base_uri": "https://localhost:8080/"
        },
        "id": "JBbyvkuK4s-S",
        "outputId": "6ce40c2e-8ab7-4e00-cb29-9f8ece52f2b1"
      },
      "execution_count": 29,
      "outputs": [
        {
          "output_type": "stream",
          "name": "stdout",
          "text": [
            "0.7564102564102564\n",
            "0.7026958908768477\n",
            "0.6998026392127912\n",
            "0.6997941960511329\n",
            "answer: 0.6997941959792293\n"
          ]
        }
      ]
    },
    {
      "cell_type": "code",
      "source": [
        "# check the answers\n",
        "a = -0.5 * 9.8\n",
        "b = 2\n",
        "c = 1\n",
        "\n",
        "discriminant = b * b - 4 * a * c\n",
        "true_answer1 = (-b + np.sqrt(discriminant)) / (2 * a)\n",
        "true_answer2 = (-b - np.sqrt(discriminant)) / (2 * a)\n",
        "print(\"newton 1:\", answer1)\n",
        "print(\"true 1:\", true_answer1)\n",
        "print(\"newton 2:\", answer2)\n",
        "print(\"true 2:\", true_answer2)"
      ],
      "metadata": {
        "colab": {
          "base_uri": "https://localhost:8080/"
        },
        "id": "90YTGJ_r5EL7",
        "outputId": "d104c80d-50fe-4aa0-9b35-46eb72cbd3f0"
      },
      "execution_count": 30,
      "outputs": [
        {
          "output_type": "stream",
          "name": "stdout",
          "text": [
            "newton 1: -0.2916309306731069\n",
            "true 1: -0.29163093067310686\n",
            "newton 2: 0.6997941959792293\n",
            "true 2: 0.6997941959792293\n"
          ]
        }
      ]
    },
    {
      "cell_type": "code",
      "source": [
        "# initial guess\n",
        "x_old = 1\n",
        "\n",
        "# 2nd derivative\n",
        "def derivative2(x):\n",
        "  return -0.5 * 9.8 * 2\n",
        "\n",
        "# the algorithm\n",
        "while True:\n",
        "  # Newton's formula for finding point where f'(x) = 0: X(t+1) = X(t) - f'(X(t))/f''(X(t))\n",
        "  x_new = x_old - derivative(x_old) / derivative2(x_old)\n",
        "\n",
        "  # stop when the value of x hasn't changed too much\n",
        "  if np.abs(x_new - x_old) < 1e-10:\n",
        "    break\n",
        "  print(x_new)\n",
        "\n",
        "  # don't forget to reassign x_old for the next step!\n",
        "  x_old = x_new\n",
        "\n",
        "# print the final answer\n",
        "# Notice here that CONVERGENCE TOOK PLACE IN SINGLE STEP. I discussed the theory behind this at start of the file\n",
        "print(\"answer:\", x_new)"
      ],
      "metadata": {
        "colab": {
          "base_uri": "https://localhost:8080/"
        },
        "id": "wWbBhUoX5vAC",
        "outputId": "e5ee0c04-f8de-4425-9c96-1752ce45039a"
      },
      "execution_count": 31,
      "outputs": [
        {
          "output_type": "stream",
          "name": "stdout",
          "text": [
            "0.20408163265306123\n",
            "answer: 0.20408163265306123\n"
          ]
        }
      ]
    },
    {
      "cell_type": "code",
      "source": [
        "plt.axhline(y=0, color='k')\n",
        "plt.axvline(x=0, color='k')\n",
        "plt.grid()\n",
        "plt.scatter([x_new], [func(x_new)], c='red')\n",
        "plt.plot(x, y);"
      ],
      "metadata": {
        "colab": {
          "base_uri": "https://localhost:8080/",
          "height": 430
        },
        "id": "vz4Ad8Rd2KqL",
        "outputId": "96ae1a86-e24c-4e90-f2ae-a0c54bf068b3"
      },
      "execution_count": 32,
      "outputs": [
        {
          "output_type": "display_data",
          "data": {
            "text/plain": [
              "<Figure size 640x480 with 1 Axes>"
            ],
            "image/png": "[encoded data removed]"
          },
          "metadata": {}
        }
      ]
    },
    {
      "cell_type": "code",
      "source": [
        "x_opt = 2 / (0.5 * 9.8 * 2)\n",
        "x_opt"
      ],
      "metadata": {
        "colab": {
          "base_uri": "https://localhost:8080/"
        },
        "id": "Yj3R5Whv2RCX",
        "outputId": "5153911d-5af2-4203-82c9-b37fe54cf63b"
      },
      "execution_count": 33,
      "outputs": [
        {
          "output_type": "execute_result",
          "data": {
            "text/plain": [
              "0.2040816326530612"
            ]
          },
          "metadata": {},
          "execution_count": 33
        }
      ]
    },
    {
      "cell_type": "markdown",
      "source": [
        "![](https://deeplearningcourses.com/notebooks_v3_pxl?sc=u00sXRNZFNmp4Ka08-CGPw&n=Newton%27s+Method)"
      ],
      "metadata": {
        "id": "PFJd4PmsxjKb"
      }
    }
  ]
}