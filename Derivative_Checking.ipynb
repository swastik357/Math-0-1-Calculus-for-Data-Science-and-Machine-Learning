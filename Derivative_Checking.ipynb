{
  "nbformat": 4,
  "nbformat_minor": 0,
  "metadata": {
    "colab": {
      "provenance": []
    },
    "kernelspec": {
      "name": "python3",
      "display_name": "Python 3"
    },
    "language_info": {
      "name": "python"
    },
    "sc": "u00sXRNZFNmp4Ka08-CGPw"
  },
  "cells": [
    {
      "cell_type": "code",
      "execution_count": 3,
      "metadata": {
        "colab": {
          "base_uri": "https://localhost:8080/"
        },
        "id": "Xt5MQqEP2oC9",
        "outputId": "f5d7190d-9a83-4568-9584-a2d482ddb3a8"
      },
      "outputs": [
        {
          "output_type": "stream",
          "name": "stdout",
          "text": [
            "Estimate: 10.00000082740371\n",
            "True: 10\n"
          ]
        }
      ],
      "source": [
        "# f(x) = x^2\n",
        "# f'(x) = 2x\n",
        "# evaluate at x = 5\n",
        "h = 1e-10\n",
        "x = 5\n",
        "print(\"Estimate:\", ((x + h)**2 - x**2) / h)\n",
        "print(\"True:\", 2*x)"
      ]
    },
    {
      "cell_type": "code",
      "source": [
        "# f(x) = x^3\n",
        "# f'(x) = 3x^2\n",
        "# evaluate at x = 2\n",
        "h = 1e-10\n",
        "x = 2\n",
        "print(\"Estimate:\", ((x + h)**3 - x**3) / h)\n",
        "print(\"True:\", 3 * x**2)"
      ],
      "metadata": {
        "colab": {
          "base_uri": "https://localhost:8080/"
        },
        "id": "HkoA-E-K25z0",
        "outputId": "442e1b27-49e9-4263-b32c-7565ad66f062"
      },
      "execution_count": 4,
      "outputs": [
        {
          "output_type": "stream",
          "name": "stdout",
          "text": [
            "Estimate: 12.000000992884452\n",
            "True: 12\n"
          ]
        }
      ]
    },
    {
      "cell_type": "code",
      "source": [
        "# f(x) = 1 / x\n",
        "# f'(x) = -1 / x^2\n",
        "# evaluate at x = 1\n",
        "h = 1e-10\n",
        "x = 1\n",
        "print(\"Estimate:\", (1 / (x + h) - 1 / x) / h)\n",
        "print(\"True:\", -1 / x**2)"
      ],
      "metadata": {
        "colab": {
          "base_uri": "https://localhost:8080/"
        },
        "id": "BXbO_zvx3RtU",
        "outputId": "c6997b14-cea3-40ab-84f9-b5a38c0733eb"
      },
      "execution_count": 5,
      "outputs": [
        {
          "output_type": "stream",
          "name": "stdout",
          "text": [
            "Estimate: -1.000000082740371\n",
            "True: -1.0\n"
          ]
        }
      ]
    },
    {
      "cell_type": "code",
      "source": [
        "import math\n",
        "# f(x) = sqrt(x)\n",
        "# f'(x) = 0.5 / sqrt(x)\n",
        "# evaluate at x = 3\n",
        "h = 1e-10\n",
        "x = 3\n",
        "print(\"Estimate:\", (math.sqrt(x + h) - math.sqrt(x)) / h)\n",
        "print(\"True:\", 0.5 / math.sqrt(x))"
      ],
      "metadata": {
        "colab": {
          "base_uri": "https://localhost:8080/"
        },
        "id": "sQiqM8Gv3isf",
        "outputId": "a8a00c74-c7be-4379-f7ce-e460b7608975"
      },
      "execution_count": 6,
      "outputs": [
        {
          "output_type": "stream",
          "name": "stdout",
          "text": [
            "Estimate: 0.2886757499709347\n",
            "True: 0.2886751345948129\n"
          ]
        }
      ]
    },
    {
      "cell_type": "code",
      "source": [
        "# Exercise: try the 2-sided method\n",
        "import math\n",
        "# f(x) = sqrt(x)\n",
        "# f'(x) = 0.5 / sqrt(x)\n",
        "# evaluate at x = 3\n",
        "h = 1e-10\n",
        "x = 3\n",
        "print(\"Estimate:\", (math.sqrt(x + h) - math.sqrt(x-h)) / (2*h))\n",
        "print(\"True:\", 0.5 / math.sqrt(x))"
      ],
      "metadata": {
        "id": "fHoNZUfT3yX5",
        "colab": {
          "base_uri": "https://localhost:8080/"
        },
        "outputId": "8d4bf9b4-6d25-44e1-8cfa-aa3f70b63b19"
      },
      "execution_count": 8,
      "outputs": [
        {
          "output_type": "stream",
          "name": "stdout",
          "text": [
            "Estimate: 0.2886746397479101\n",
            "True: 0.2886751345948129\n"
          ]
        }
      ]
    },
    {
      "cell_type": "code",
      "source": [],
      "metadata": {
        "id": "S0acXBWCxiJL"
      },
      "execution_count": null,
      "outputs": []
    },
    {
      "cell_type": "code",
      "source": [],
      "metadata": {
        "id": "oaG3igwFxiQU"
      },
      "execution_count": null,
      "outputs": []
    },
    {
      "cell_type": "code",
      "source": [],
      "metadata": {
        "id": "PzQJleyoxiWi"
      },
      "execution_count": null,
      "outputs": []
    },
    {
      "cell_type": "markdown",
      "source": [
        "![](https://deeplearningcourses.com/notebooks_v3_pxl?sc=u00sXRNZFNmp4Ka08-CGPw&n=Derivative+Checking)"
      ],
      "metadata": {
        "id": "PFJd4PmsxjKb"
      }
    }
  ]
}