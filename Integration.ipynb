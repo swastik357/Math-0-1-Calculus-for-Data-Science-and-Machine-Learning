{
  "nbformat": 4,
  "nbformat_minor": 0,
  "metadata": {
    "colab": {
      "provenance": []
    },
    "kernelspec": {
      "name": "python3",
      "display_name": "Python 3"
    },
    "language_info": {
      "name": "python"
    },
    "sc": "u00sXRNZFNmp4Ka08-CGPw"
  },
  "cells": [
    {
      "cell_type": "code",
      "execution_count": 43,
      "metadata": {
        "id": "OsDOZJzEAarG"
      },
      "outputs": [],
      "source": [
        "import numpy as np\n",
        "from sympy import integrate, sin, Symbol"
      ]
    },
    {
      "cell_type": "code",
      "source": [
        "# what does np.linspace do?\n",
        "np.linspace(0, 3, 10)"
      ],
      "metadata": {
        "colab": {
          "base_uri": "https://localhost:8080/"
        },
        "id": "iwFKSj10CLiZ",
        "outputId": "47697c9c-92f5-48f7-83e6-dcba28a97da7"
      },
      "execution_count": 44,
      "outputs": [
        {
          "output_type": "execute_result",
          "data": {
            "text/plain": [
              "array([0.        , 0.33333333, 0.66666667, 1.        , 1.33333333,\n",
              "       1.66666667, 2.        , 2.33333333, 2.66666667, 3.        ])"
            ]
          },
          "metadata": {},
          "execution_count": 44
        }
      ]
    },
    {
      "cell_type": "code",
      "source": [
        "# Instead of re-writing numerical integration code for each separate function\n",
        "# we are writing a general purpose module which takes functions and integrals\n",
        "# as parameters\n",
        "def true_and_estimated_area(integral,func,start,end,intervals):\n",
        "  true_area = integral(end) - integral(start)\n",
        "  estimated_area = 0\n",
        "  x_values = np.linspace(start, end, intervals)\n",
        "  for i in range(len(x_values) - 1):\n",
        "    x1 = x_values[i]\n",
        "    x2 = x_values[i + 1]\n",
        "    width = x2 - x1\n",
        "    x_mid = (x1 + x2) / 2\n",
        "    height = func(x_mid)\n",
        "    estimated_area += width * height\n",
        "  print(\"true area:\", true_area)\n",
        "  print(\"estimated area:\", estimated_area)"
      ],
      "metadata": {
        "id": "k--6MpZ_R5ps"
      },
      "execution_count": 45,
      "outputs": []
    },
    {
      "cell_type": "code",
      "source": [
        "# f(x) = x^2\n",
        "# F(x) = (1/3) x^3\n",
        "# find: area from [1, 2]\n",
        "def func1(x): return x**2\n",
        "def integral1(x): return x**3/3\n",
        "print(\"True and Estimated Area Calculation for area under x^2 from x = 1 to x = 2\")\n",
        "true_and_estimated_area(integral1,func1,1,2,100)\n",
        "\n",
        "print('**************************************************************')\n",
        "\n",
        "# f(x) = sin(x)\n",
        "# F(x) = -cos(x)\n",
        "# find: area from [0, pi]\n",
        "def func2(x): return np.sin(x)\n",
        "def integral2(x): return -np.cos(x)\n",
        "print(\"True and Estimated Area Calculation for area under sin(x) from x = 0 to x = pi\")\n",
        "true_and_estimated_area(integral2,func2,0,np.pi,1000)\n",
        "\n",
        "print('**************************************************************')\n",
        "\n",
        "# Now we will use integrate feature of sympy to check the answers we got above\n",
        "x = Symbol('x')\n",
        "print('Area under x^2 from x = 1 to x = 2 using sympy = ',integrate(x**2, (x, 1, 2)))\n",
        "print('Area under sin(x) from x = 0 to x = pi using sympy = ', integrate(sin(x), (x, 0, np.pi)))"
      ],
      "metadata": {
        "colab": {
          "base_uri": "https://localhost:8080/"
        },
        "id": "61rzElfjAgE2",
        "outputId": "6568a562-38ab-4463-f618-5b090f026f86"
      },
      "execution_count": 46,
      "outputs": [
        {
          "output_type": "stream",
          "name": "stdout",
          "text": [
            "True and Estimated Area Calculation for area under x^2 from x = 1 to x = 2\n",
            "true area: 2.333333333333333\n",
            "estimated area: 2.333324830799578\n",
            "**************************************************************\n",
            "True and Estimated Area Calculation for area under sin(x) from x = 0 to x = pi\n",
            "true area: 2.0\n",
            "estimated area: 2.0000008241146756\n",
            "**************************************************************\n",
            "Area under x^2 from x = 1 to x = 2 using sympy =  7/3\n",
            "Area under sin(x) from x = 0 to x = pi using sympy =  2.00000000000000\n"
          ]
        }
      ]
    },
    {
      "cell_type": "markdown",
      "source": [
        "![](https://deeplearningcourses.com/notebooks_v3_pxl?sc=u00sXRNZFNmp4Ka08-CGPw&n=Integration)"
      ],
      "metadata": {
        "id": "PFJd4PmsxjKb"
      }
    }
  ]
}